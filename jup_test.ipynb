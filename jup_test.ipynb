{
 "metadata": {
  "language_info": {
   "codemirror_mode": {
    "name": "ipython",
    "version": 3
   },
   "file_extension": ".py",
   "mimetype": "text/x-python",
   "name": "python",
   "nbconvert_exporter": "python",
   "pygments_lexer": "ipython3",
   "version": "3.8.3"
  },
  "orig_nbformat": 2,
  "kernelspec": {
   "name": "python383jvsc74a57bd0abc27feb4b4a9ec0a6988f1dbabe642bba5bd4ed00941575c8703076a601e3c9",
   "display_name": "Python 3.8.3 64-bit ('base': conda)"
  }
 },
 "nbformat": 4,
 "nbformat_minor": 2,
 "cells": [
  {
   "source": [
    "import pandas as pd \n",
    "from gene_id import Gene_IDs\n",
    "import plotting as my_plots\n",
    "import utilities as ut\n",
    "from atac_signal import ATAC_signal\n",
    "from gene_sets import Gene_sets"
   ],
   "cell_type": "code",
   "metadata": {},
   "execution_count": 1,
   "outputs": []
  },
  {
   "cell_type": "code",
   "execution_count": null,
   "metadata": {},
   "outputs": [],
   "source": [
    "if \"gs\" not in locals():\n",
    "    gs = Gene_sets()\n",
    "\n",
    "if \"exp1\" not in locals():\n",
    "    exp1 = ATAC_signal(\"exp1\")\n",
    "\n",
    "if \"exp_mss\" not in locals():\n",
    "    exp_mss = ATAC_signal(\"exp_metsetset\")\n",
    "\n",
    "if \"exp_hrde1\" not in locals():\n",
    "    exp_hrde1 = ATAC_signal(\"exp_hrde_guy\")"
   ]
  },
  {
   "source": [
    "These genes were found by Itamar to be..."
   ],
   "cell_type": "markdown",
   "metadata": {}
  },
  {
   "cell_type": "code",
   "execution_count": null,
   "metadata": {},
   "outputs": [],
   "source": [
    "my_plots.plot_gene_atac_signal_distribution(exp1, 'WBGene00015351', mean_flag=False)"
   ]
  },
  {
   "cell_type": "code",
   "execution_count": null,
   "metadata": {},
   "outputs": [],
   "source": [
    "my_plots.plot_gene_atac_signal_distribution(exp1, 'WBGene00016177', mean_flag=False)"
   ]
  },
  {
   "cell_type": "code",
   "execution_count": null,
   "metadata": {},
   "outputs": [],
   "source": [
    "my_plots.plot_gene_atac_signal_distribution(exp1, 'WBGene00000224', mean_flag=False)"
   ]
  },
  {
   "cell_type": "code",
   "execution_count": null,
   "metadata": {},
   "outputs": [],
   "source": [
    "my_plots.plot_gene_atac_signal_distribution(exp1, 'WBGene00013100', mean_flag=False)"
   ]
  }
 ]
}