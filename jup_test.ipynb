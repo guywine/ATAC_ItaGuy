{
 "metadata": {
  "language_info": {
   "codemirror_mode": {
    "name": "ipython",
    "version": 3
   },
   "file_extension": ".py",
   "mimetype": "text/x-python",
   "name": "python",
   "nbconvert_exporter": "python",
   "pygments_lexer": "ipython3",
   "version": "3.8.3"
  },
  "orig_nbformat": 2,
  "kernelspec": {
   "name": "python3",
   "display_name": "Python 3.8.3 64-bit ('base': conda)"
  },
  "interpreter": {
   "hash": "abc27feb4b4a9ec0a6988f1dbabe642bba5bd4ed00941575c8703076a601e3c9"
  }
 },
 "nbformat": 4,
 "nbformat_minor": 2,
 "cells": [
  {
   "cell_type": "code",
   "execution_count": null,
   "source": [
    "import pandas as pd\n",
    "import numpy as np\n",
    "import matplotlib.pyplot as plt\n",
    "\n",
    "from gene_id import Gene_IDs\n",
    "from atac_signal import ATAC_signal\n",
    "from gene_sets import Gene_sets\n",
    "\n",
    "import plotting as my_plots\n",
    "import utilities as ut\n",
    "import calc_signals as cas"
   ],
   "outputs": [],
   "metadata": {}
  },
  {
   "cell_type": "code",
   "execution_count": null,
   "source": [
    "if \"gs\" not in locals():\n",
    "    gs = Gene_sets()\n",
    "\n",
    "if \"exp1\" not in locals():\n",
    "    exp1 = ATAC_signal(\"exp1\")\n",
    "\n",
    "if \"exp_mss\" not in locals():\n",
    "    exp_mss = ATAC_signal(\"exp_metsetset\")\n",
    "\n",
    "if \"exp_hrde1\" not in locals():\n",
    "    exp_hrde1 = ATAC_signal(\"exp_hrde_guy\")"
   ],
   "outputs": [],
   "metadata": {}
  },
  {
   "cell_type": "code",
   "execution_count": null,
   "source": [
    "my_plots.plot_groups_signals(exp1, var_type='none')"
   ],
   "outputs": [],
   "metadata": {}
  },
  {
   "cell_type": "code",
   "execution_count": null,
   "source": [
    "my_plots.plot_groups_signals(exp_hrde1, var_type='none')"
   ],
   "outputs": [],
   "metadata": {}
  },
  {
   "cell_type": "code",
   "execution_count": null,
   "source": [
    "my_plots.plot_groups_signals(exp_mss, var_type='none')"
   ],
   "outputs": [],
   "metadata": {}
  },
  {
   "cell_type": "code",
   "execution_count": null,
   "source": [
    "my_plots.plot_signal_gene(exp1, 'oma-1', plot_range=(-750, 500), var_type='sem', mean_flag=False)"
   ],
   "outputs": [],
   "metadata": {}
  },
  {
   "cell_type": "code",
   "execution_count": null,
   "source": [
    "my_plots.plot_signal_gene(exp_mss, 'GFP', plot_range=(-750, 500), var_type='sem', mean_flag=False)"
   ],
   "outputs": [],
   "metadata": {}
  },
  {
   "cell_type": "code",
   "execution_count": null,
   "source": [
    "my_plots.plot_gene_atac_signal_distribution(exp_mss, 'oma-1', mean_flag=True)"
   ],
   "outputs": [],
   "metadata": {}
  },
  {
   "cell_type": "code",
   "execution_count": null,
   "source": [
    "## hrde-1 lists:\n",
    "hrde1_kennedy = gs.get_list('hrde-1-Kennedy')\n",
    "hrde_FC_sig = gs.get_list('mRNA_isSig')\n",
    "hrde_up = gs.get_list('mRNA_log2_FC', thresh=0)\n",
    "hrde_up_sig = ut.intersect_lists(hrde_FC_sig, hrde_up)\n",
    "hrde_down = gs.get_list('mRNA_log2_FC', thresh=0, bottom=True)\n",
    "hrde_down_sig = ut.intersect_lists(hrde_FC_sig, hrde_down)\n",
    "hrde_regulated = ut.intersect_lists(hrde_up_sig, hrde1_kennedy)\n",
    "\n",
    "hrde1_nearby_up, hrde1_nearby_down = ut.get_nearby_genes_list(hrde_regulated, 2000) # len 75, len 28\n",
    "hrde1_nearby_up_1200, hrde1_nearby_down_1200 = ut.get_nearby_genes_list(hrde_regulated, 1200) # len 49, len 7\n",
    "\n",
    "hrde_dic = {'hrde1_kennedy':hrde1_kennedy, 'hrde_reg':hrde_regulated, 'hrde-1 upstream':hrde1_nearby_up, 'hrde down sig':hrde_down_sig}\n",
    "    "
   ],
   "outputs": [],
   "metadata": {}
  },
  {
   "cell_type": "markdown",
   "source": [
    "These genes were found by Itamar to be..."
   ],
   "metadata": {}
  },
  {
   "cell_type": "code",
   "execution_count": null,
   "source": [
    "my_plots.plot_gene_atac_signal_distribution(exp1, 'WBGene00015351', mean_flag=False)"
   ],
   "outputs": [],
   "metadata": {}
  },
  {
   "cell_type": "code",
   "execution_count": null,
   "source": [
    "my_plots.plot_gene_atac_signal_distribution(exp1, 'WBGene00016177', mean_flag=False)"
   ],
   "outputs": [],
   "metadata": {}
  },
  {
   "cell_type": "code",
   "execution_count": null,
   "source": [
    "my_plots.plot_gene_atac_signal_distribution(exp1, 'WBGene00000224', mean_flag=False)"
   ],
   "outputs": [],
   "metadata": {}
  },
  {
   "cell_type": "code",
   "execution_count": null,
   "source": [
    "my_plots.plot_gene_atac_signal_distribution(exp1, 'WBGene00013100', mean_flag=False)"
   ],
   "outputs": [],
   "metadata": {}
  },
  {
   "cell_type": "code",
   "execution_count": null,
   "source": [
    "cas.bootstrap_group_score_fc_histogram(exp1.fc['rep 0'], hrde1_nearby_up) # ~99%"
   ],
   "outputs": [],
   "metadata": {}
  },
  {
   "cell_type": "code",
   "execution_count": null,
   "source": [
    "cas.bootstrap_group_score_fc_histogram(exp1.fc['rep 0'], hrde_regulated) #"
   ],
   "outputs": [],
   "metadata": {}
  },
  {
   "cell_type": "code",
   "execution_count": null,
   "source": [
    "cas.bootstrap_group_score_fc_histogram(exp1.fc['rep 1'], hrde1_nearby_up) # ~1%"
   ],
   "outputs": [],
   "metadata": {}
  },
  {
   "cell_type": "code",
   "execution_count": null,
   "source": [
    "cas.bootstrap_group_score_fc_histogram(exp1.fc['rep 1'], hrde_regulated) #"
   ],
   "outputs": [],
   "metadata": {}
  },
  {
   "cell_type": "code",
   "execution_count": null,
   "source": [
    "cas.bootstrap_group_score_fc_histogram(exp1.fc['rep 2'], hrde1_nearby_up) # 5%"
   ],
   "outputs": [],
   "metadata": {}
  },
  {
   "cell_type": "code",
   "execution_count": null,
   "source": [
    "cas.bootstrap_group_score_fc_histogram(exp1.fc['rep 3'], hrde1_nearby_up) # 67%"
   ],
   "outputs": [],
   "metadata": {}
  },
  {
   "cell_type": "code",
   "execution_count": null,
   "source": [
    "cas.bootstrap_group_score_fc_histogram(exp1.fc.mean(axis=1), hrde1_nearby_up) # 17%"
   ],
   "outputs": [],
   "metadata": {}
  },
  {
   "cell_type": "markdown",
   "source": [
    "Until now, it was all testing for exp1. Now it is for exp_hrde1, which is supposed to be relevant:"
   ],
   "metadata": {}
  },
  {
   "cell_type": "code",
   "execution_count": null,
   "source": [
    "my_plots.plot_groups_signals(exp_hrde1, groups_dic={'hrde reg':hrde_regulated}, mean_flag=True)"
   ],
   "outputs": [],
   "metadata": {}
  },
  {
   "cell_type": "code",
   "execution_count": null,
   "source": [
    "my_plots.plot_groups_signals(exp_hrde1, groups_dic={'hrde reg':hrde_regulated}, mean_flag=False, var_type='none')"
   ],
   "outputs": [],
   "metadata": {}
  },
  {
   "cell_type": "code",
   "execution_count": null,
   "source": [
    "cas.bootstrap_group_score_fc_histogram(exp_hrde1.fc.mean(axis=1), hrde_regulated) # 0%"
   ],
   "outputs": [],
   "metadata": {}
  },
  {
   "cell_type": "code",
   "execution_count": null,
   "source": [
    "cas.bootstrap_group_score_fc_histogram(exp_hrde1.fc.mean(axis=1), hrde1_nearby_up) # 47%"
   ],
   "outputs": [],
   "metadata": {}
  },
  {
   "cell_type": "markdown",
   "source": [
    "This looks like the \"hrde1_upstream\" group has a pretty standard fold_change score! not good for us."
   ],
   "metadata": {}
  },
  {
   "cell_type": "markdown",
   "source": [
    "testthe function with random data:"
   ],
   "metadata": {}
  },
  {
   "cell_type": "code",
   "execution_count": null,
   "source": [
    "genes_ind = exp1.fc.index\n",
    "genes_cols = exp1.fc.columns\n",
    "nums = np.random.rand(len(genes_ind),4)\n",
    "rand_data = pd.DataFrame(nums, index = genes_ind, columns =genes_cols)"
   ],
   "outputs": [],
   "metadata": {}
  },
  {
   "cell_type": "code",
   "execution_count": null,
   "source": [
    "cas.bootstrap_group_score_fc_histogram(rand_data.mean(axis=1), hrde1_nearby_up)"
   ],
   "outputs": [],
   "metadata": {}
  },
  {
   "cell_type": "code",
   "execution_count": null,
   "source": [],
   "outputs": [],
   "metadata": {}
  },
  {
   "cell_type": "code",
   "execution_count": null,
   "source": [
    "intersected_list = list(set(rand_data.index) & set(hrde1_nearby_up))\n",
    "rand_data.loc[intersected_list,:]=0.5\n",
    "cas.bootstrap_group_score_fc_histogram(rand_data.mean(axis=1), hrde1_nearby_up)"
   ],
   "outputs": [],
   "metadata": {}
  },
  {
   "cell_type": "markdown",
   "source": [
    "Biological questions:"
   ],
   "metadata": {}
  },
  {
   "cell_type": "code",
   "execution_count": null,
   "source": [
    "exp_hrde1.exp_df"
   ],
   "outputs": [],
   "metadata": {}
  },
  {
   "cell_type": "code",
   "execution_count": null,
   "source": [
    "import matplotlib.pyplot as plt \n",
    "ds = [1000, 1500, 2000, 3000, 5000, 10000, 15_000, 25_000]\n",
    "for distance in ds:\n",
    "    genes_up, genes_down = ut.get_nearby_genes_list(hrde_regulated, distance)\n",
    "    print(f'for distance: {distance}, num  of genes:{len(genes_down)}')\n",
    "    cas.bootstrap_group_score_fc_histogram(exp_hrde1.fc.mean(axis=1), genes_down)\n",
    "    plt.show()\n",
    "\n"
   ],
   "outputs": [],
   "metadata": {}
  },
  {
   "cell_type": "code",
   "execution_count": null,
   "source": [
    "import matplotlib.pyplot as plt \n",
    "ds = [1000, 1500, 2000, 3000, 5000, 10000, 15_000, 25_000]\n",
    "for distance in ds:\n",
    "    genes_up, genes_down = ut.get_nearby_genes_list(hrde_regulated, distance)\n",
    "    print(f'for distance: {distance}, num  of genes:{len(genes_up)}')\n",
    "    cas.bootstrap_group_score_fc_histogram(exp_hrde1.fc.mean(axis=1), genes_up)\n",
    "    plt.show()"
   ],
   "outputs": [],
   "metadata": {}
  },
  {
   "cell_type": "code",
   "execution_count": null,
   "source": [
    "genes_up_10000, genes_down_10000 = ut.get_nearby_genes_list(hrde_regulated, 10_000)\n",
    "my_plots.plot_groups_signals(exp_hrde1, groups_dic={'hrde-1 downstream':genes_down_10000, 'hrde reg':hrde_regulated}, mean_flag=True)\n"
   ],
   "outputs": [],
   "metadata": {}
  },
  {
   "cell_type": "code",
   "execution_count": null,
   "source": [
    "len(genes_down_10000)"
   ],
   "outputs": [],
   "metadata": {}
  },
  {
   "cell_type": "code",
   "execution_count": null,
   "source": [
    "len(hrde_up_sig)"
   ],
   "outputs": [],
   "metadata": {}
  },
  {
   "cell_type": "code",
   "execution_count": null,
   "source": [
    "hrde_up_and_nearby_downstream_10000 = ut.intersect_lists(genes_down_10000, hrde_up_sig)"
   ],
   "outputs": [],
   "metadata": {}
  },
  {
   "cell_type": "code",
   "execution_count": null,
   "source": [
    "len(hrde_up_and_nearby_downstream_10000)"
   ],
   "outputs": [],
   "metadata": {}
  },
  {
   "cell_type": "code",
   "execution_count": null,
   "source": [
    "mrna_fc = gs.big_table['mRNA_log2_FC']"
   ],
   "outputs": [],
   "metadata": {}
  },
  {
   "cell_type": "code",
   "execution_count": null,
   "source": [
    "cas.bootstrap_group_score_fc_histogram(mrna_fc, genes_down_10000)"
   ],
   "outputs": [],
   "metadata": {}
  },
  {
   "cell_type": "markdown",
   "source": [
    "By stander of genes:\n",
    "\n"
   ],
   "metadata": {}
  },
  {
   "cell_type": "code",
   "execution_count": null,
   "source": [
    "my_plots.plot_gene_atac_signal_distribution(exp_mss, 'spr-2', mean_flag=True)"
   ],
   "outputs": [],
   "metadata": {}
  },
  {
   "cell_type": "code",
   "execution_count": null,
   "source": [
    "genes_up_15, genes_down_15 = ut.get_nearby_genes_list(hrde_regulated, 15_000)\n",
    "i_bootstrap_means, _ = cas.bootstrap_group_score(exp_hrde1.fc.mean(axis=1), genes_down_15)\n",
    "\n"
   ],
   "outputs": [],
   "metadata": {}
  },
  {
   "cell_type": "code",
   "execution_count": null,
   "source": [
    "v_line_mean = i_bootstrap_means.mean()"
   ],
   "outputs": [],
   "metadata": {}
  },
  {
   "cell_type": "code",
   "execution_count": null,
   "source": [
    "ds = [1500, 3000, 5000, 15_000, 25_000]\n",
    "for distance in ds:\n",
    "    genes_up, genes_down = ut.get_nearby_genes_list(hrde_regulated, distance)\n",
    "    intersected_list = ut.intersect_lists(exp_hrde1.fc.index, genes_down)\n",
    "    exp_hrde1.fc.loc[intersected_list,:].mean(axis=1).hist(bins=15, alpha=0.5, density=True)\n",
    "\n",
    "plt.suptitle('hrde-1 nearby downstream geans')\n",
    "plt.xlabel('fold-change in atac signal')\n",
    "plt.ylabel('probability density (genes)')\n",
    "plt.legend(ds)  \n",
    "plt.vlines(v_line_mean, ymin=0, ymax=4, linestyles='dashed')\n"
   ],
   "outputs": [],
   "metadata": {}
  },
  {
   "cell_type": "code",
   "execution_count": null,
   "source": [
    "intersected_list_15 = ut.intersect_lists(exp_hrde1.fc.index, genes_down_15)\n",
    "exp_hrde1.fc.loc[intersected_list_15,:].mean(axis=1).hist(bins=15, alpha=0.5, density=True)\n",
    "\n",
    "plt.suptitle('hrde-1 nearby downstream geans (15kb distance)')\n",
    "plt.xlabel('fold-change in atac signal')\n",
    "plt.ylabel('probability density (genes)')\n",
    "plt.legend(['15kb'])  \n",
    "plt.vlines(v_line_mean, ymin=0, ymax=1.5, linestyles='dashed')"
   ],
   "outputs": [],
   "metadata": {}
  },
  {
   "cell_type": "code",
   "execution_count": null,
   "source": [
    "my_plots.plot_groups_signals(exp1, var_type='none')"
   ],
   "outputs": [],
   "metadata": {}
  },
  {
   "cell_type": "code",
   "execution_count": null,
   "source": [],
   "outputs": [],
   "metadata": {}
  }
 ]
}